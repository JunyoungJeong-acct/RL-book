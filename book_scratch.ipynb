{
 "cells": [
  {
   "cell_type": "code",
   "execution_count": 58,
   "metadata": {},
   "outputs": [],
   "source": [
    "# Imports\n",
    "import random\n",
    "from abc import ABC, abstractmethod\n",
    "import dataclasses\n",
    "from typing import Generic, TypeVar\n",
    "import statistics\n"
   ]
  },
  {
   "cell_type": "code",
   "execution_count": 39,
   "metadata": {},
   "outputs": [
    {
     "name": "stdout",
     "output_type": "stream",
     "text": [
      "5\n",
      "9\n"
     ]
    }
   ],
   "source": [
    "# Naive method\n",
    "def six_sided():\n",
    "    # distributions hard coded\n",
    "    return randint(1, 6)\n",
    "\n",
    "print(six_sided())\n",
    "\n",
    "def roll_dice():\n",
    "    # can only sample in a limited manner\n",
    "    return six_sided() + six_sided() \n",
    "\n",
    "print(roll_dice())"
   ]
  },
  {
   "cell_type": "code",
   "execution_count": 65,
   "metadata": {},
   "outputs": [
    {
     "name": "stdout",
     "output_type": "stream",
     "text": [
      "6\n",
      "8\n",
      "Die(sides=6)\n",
      "True\n",
      "True\n",
      "True\n",
      "False\n"
     ]
    },
    {
     "ename": "AttributeError",
     "evalue": "'Die' object has no attribute 'self'",
     "output_type": "error",
     "traceback": [
      "\u001b[1;31m---------------------------------------------------------------------------\u001b[0m",
      "\u001b[1;31mAttributeError\u001b[0m                            Traceback (most recent call last)",
      "Cell \u001b[1;32mIn[65], line 48\u001b[0m\n\u001b[0;32m     45\u001b[0m \u001b[38;5;28mprint\u001b[39m(Die(\u001b[38;5;241m6\u001b[39m)\u001b[38;5;241m==\u001b[39mDie(\u001b[38;5;241m6\u001b[39m)) \n\u001b[0;32m     46\u001b[0m \u001b[38;5;28mprint\u001b[39m(Die(\u001b[38;5;241m6\u001b[39m)\u001b[38;5;241m==\u001b[39m\u001b[38;5;28;01mNone\u001b[39;00m)\n\u001b[1;32m---> 48\u001b[0m \u001b[43msix_sided\u001b[49m\u001b[38;5;241;43m.\u001b[39;49m\u001b[43mself\u001b[49m\n",
      "\u001b[1;31mAttributeError\u001b[0m: 'Die' object has no attribute 'self'"
     ]
    }
   ],
   "source": [
    "# Using a class to define an interface\n",
    "class Distribution(ABC):\n",
    "    @abstractmethod\n",
    "    def sample(self):\n",
    "        pass\n",
    "\n",
    "# Use the abstract \"Distribution\" class to generate a concrete class \"Die\"\n",
    "class Die(Distribution):\n",
    "    # Initialize as a uniform over n=sides\n",
    "    def __init__(self, sides):\n",
    "        self.sides = sides\n",
    "    # Define attribute \"sample\" that returns realization of Die\n",
    "    def sample(self):\n",
    "        return random.randint(1, self.sides)\n",
    "    # In a class - can choose what calling the class returns\n",
    "    def __repr__(self):\n",
    "        return f\"Die(sides={self.sides})\" \n",
    "    # Easier bugfixes and removes errors in comparisons to other objects\n",
    "        # Returns self as function definition\n",
    "    def __eq__(self, other):\n",
    "        if isinstance(other, Die):\n",
    "            return self.sides == other.sides\n",
    "        return False\n",
    "\n",
    "\n",
    "\n",
    "# Generate class\n",
    "six_sided = Die(6)\n",
    "\n",
    "# Sample using class\n",
    "print(six_sided.sample())\n",
    "\n",
    "# Generate function to roll 2 dice\n",
    "def roll_dice():\n",
    "    return six_sided.sample() + six_sided.sample()\n",
    "print(roll_dice())\n",
    "\n",
    "# Changed due to __repr__ in class definition for debugging\n",
    "print(six_sided)\n",
    "\n",
    "# Comparison of different instances of the class\n",
    "print(six_sided==six_sided)\n",
    "# Changed due to __eq__ in class definition\n",
    "print(six_sided==Die(6))\n",
    "print(Die(6)==Die(6)) \n",
    "print(Die(6)==None)"
   ]
  },
  {
   "cell_type": "code",
   "execution_count": 53,
   "metadata": {},
   "outputs": [
    {
     "name": "stdout",
     "output_type": "stream",
     "text": [
      "2\n",
      "6\n",
      "Die(sides=6)\n",
      "True\n",
      "True\n",
      "True\n",
      "False\n",
      "Die(sides=20)\n"
     ]
    }
   ],
   "source": [
    "# Defining all these things is tedious\n",
    "# Use decorator for dataclass to avoid all of this - frozen prevents changing parameters\n",
    "@dataclass (frozen=True)\n",
    "class Die(Distribution):\n",
    "    # Restricts parameter sides: to be an int\n",
    "    sides: int\n",
    "    # Defines the sample attribute\n",
    "    def sample(self):\n",
    "        return random.randint(1, self.sides)\n",
    "    \n",
    "# Generate class\n",
    "six_sided = Die(6)\n",
    "\n",
    "# Sample using class\n",
    "print(six_sided.sample())\n",
    "\n",
    "# Generate function to roll 2 dice\n",
    "def roll_dice():\n",
    "    return six_sided.sample() + six_sided.sample()\n",
    "print(roll_dice())\n",
    "\n",
    "# Changed due to __repr__ in class definition for debugging\n",
    "print(six_sided)\n",
    "\n",
    "# Comparison of different instances of the class\n",
    "print(six_sided==six_sided)\n",
    "# Changed due to __eq__ in class definition\n",
    "print(six_sided==Die(6))\n",
    "print(Die(6)==Die(6)) \n",
    "print(Die(6)==None)\n",
    "\n",
    "# Changed due to frozen - raises error\n",
    "# six_sided.sides = 10\n",
    "\n",
    "# Instead we must generate a new copy - easy with replace from dataclass\n",
    "d20 = dataclasses.replace(six_sided, sides=20)\n",
    "print(d20)\n",
    "# Finally - immutable objects from frozen lets us use immutable objects as dict keys and set elements\n",
    "    # Essentially function as plain data - and not function references"
   ]
  },
  {
   "cell_type": "code",
   "execution_count": null,
   "metadata": {},
   "outputs": [
    {
     "ename": "TypeError",
     "evalue": "__init__() takes 1 positional argument but 2 were given",
     "output_type": "error",
     "traceback": [
      "\u001b[1;31m---------------------------------------------------------------------------\u001b[0m",
      "\u001b[1;31mTypeError\u001b[0m                                 Traceback (most recent call last)",
      "Cell \u001b[1;32mIn[63], line 23\u001b[0m\n\u001b[0;32m     20\u001b[0m \u001b[38;5;28;01mdef\u001b[39;00m \u001b[38;5;21mexpected_value\u001b[39m(d: Distribution[\u001b[38;5;28mfloat\u001b[39m], n: \u001b[38;5;28mint\u001b[39m \u001b[38;5;241m=\u001b[39m \u001b[38;5;241m100\u001b[39m) \u001b[38;5;241m-\u001b[39m\u001b[38;5;241m>\u001b[39m \u001b[38;5;28mfloat\u001b[39m:\n\u001b[0;32m     21\u001b[0m     \u001b[38;5;28;01mreturn\u001b[39;00m statistics\u001b[38;5;241m.\u001b[39mmean(d\u001b[38;5;241m.\u001b[39msample() \u001b[38;5;28;01mfor\u001b[39;00m _ \u001b[38;5;129;01min\u001b[39;00m \u001b[38;5;28mrange\u001b[39m(n))\n\u001b[1;32m---> 23\u001b[0m expected_value(\u001b[43mDie\u001b[49m\u001b[43m(\u001b[49m\u001b[38;5;241;43m6\u001b[39;49m\u001b[43m)\u001b[49m)\n",
      "\u001b[1;31mTypeError\u001b[0m: __init__() takes 1 positional argument but 2 were given"
     ]
    }
   ],
   "source": [
    "# Important to add type annotations - but sometimes unclear what the type is\n",
    "\n",
    "# A type variable named ”A”\n",
    "A = TypeVar(\"A\")\n",
    "            \n",
    "# Distribution is ”generic in A”\n",
    "class Distribution(ABC, Generic[A]):\n",
    "    # Sampling must produce a value of type A\n",
    "    @abstractmethod\n",
    "    def sample(self) -> A:\n",
    "        pass\n",
    "\n",
    "# Can now specify what type of Distribution we generate\n",
    "@dataclass (frozen=True)\n",
    "class Die(Distribution[int]):\n",
    "    # Defines the sample attribute\n",
    "    def sample(self):\n",
    "        return random.randint(1, self.sides)\n",
    "    \n",
    "def expected_value(d: Distribution[float], n: int = 100) -> float:\n",
    "    return statistics.mean(d.sample() for _ in range(n))\n",
    "\n",
    "expected_value(Die(6))"
   ]
  }
 ],
 "metadata": {
  "kernelspec": {
   "display_name": ".venv",
   "language": "python",
   "name": "python3"
  },
  "language_info": {
   "codemirror_mode": {
    "name": "ipython",
    "version": 3
   },
   "file_extension": ".py",
   "mimetype": "text/x-python",
   "name": "python",
   "nbconvert_exporter": "python",
   "pygments_lexer": "ipython3",
   "version": "3.9.12"
  }
 },
 "nbformat": 4,
 "nbformat_minor": 2
}
