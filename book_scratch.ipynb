{
 "cells": [
  {
   "cell_type": "code",
   "execution_count": 9,
   "metadata": {},
   "outputs": [],
   "source": [
    "# Imports\n",
    "from random import randint\n",
    "from abc import ABC, abstractmethod\n",
    "from dataclasses import dataclass\n",
    "from typing import Generic, TypeVar\n",
    "import statistics\n"
   ]
  },
  {
   "cell_type": "code",
   "execution_count": 10,
   "metadata": {},
   "outputs": [
    {
     "name": "stdout",
     "output_type": "stream",
     "text": [
      "5\n",
      "4\n"
     ]
    }
   ],
   "source": [
    "# Naive method\n",
    "def six_sided():\n",
    "    # distributions hard coded\n",
    "    return randint(1, 6)\n",
    "\n",
    "print(six_sided())\n",
    "\n",
    "def roll_dice():\n",
    "    # can only sample in a limited manner\n",
    "    return six_sided() + six_sided() \n",
    "\n",
    "print(roll_dice())"
   ]
  },
  {
   "cell_type": "code",
   "execution_count": 11,
   "metadata": {},
   "outputs": [
    {
     "name": "stdout",
     "output_type": "stream",
     "text": [
      "3\n",
      "9\n",
      "Die(sides=6)\n",
      "True\n",
      "True\n",
      "True\n",
      "False\n"
     ]
    }
   ],
   "source": [
    "# Using a class to define an interface\n",
    "class Distribution(ABC):\n",
    "    @abstractmethod\n",
    "    def sample(self):\n",
    "        pass\n",
    "\n",
    "# Use the abstract \"Distribution\" class to generate a concrete class \"Die\"\n",
    "class Die(Distribution):\n",
    "    # Initialize as a uniform over n=sides\n",
    "    def __init__(self, sides):\n",
    "        self.sides = sides\n",
    "    # Define attribute \"sample\" that returns realization of Die\n",
    "    def sample(self):\n",
    "        return random.randint(1, self.sides)\n",
    "    # In a class - can choose what calling the class returns\n",
    "    def __repr__(self):\n",
    "        return f\"Die(sides={self.sides})\" \n",
    "    # Easier bugfixes and removes errors in comparisons to other objects\n",
    "        # Returns self as function definition\n",
    "    def __eq__(self, other):\n",
    "        if isinstance(other, Die):\n",
    "            return self.sides == other.sides\n",
    "        return False\n",
    "\n",
    "\n",
    "\n",
    "# Generate class\n",
    "six_sided = Die(6)\n",
    "\n",
    "# Sample using class\n",
    "print(six_sided.sample())\n",
    "\n",
    "# Generate function to roll 2 dice\n",
    "def roll_dice():\n",
    "    return six_sided.sample() + six_sided.sample()\n",
    "print(roll_dice())\n",
    "\n",
    "# Changed due to __repr__ in class definition for debugging\n",
    "print(six_sided)\n",
    "\n",
    "# Comparison of different instances of the class\n",
    "print(six_sided==six_sided)\n",
    "# Changed due to __eq__ in class definition\n",
    "print(six_sided==Die(6))\n",
    "print(Die(6)==Die(6)) \n",
    "print(Die(6)==None)"
   ]
  },
  {
   "cell_type": "code",
   "execution_count": 12,
   "metadata": {},
   "outputs": [
    {
     "name": "stdout",
     "output_type": "stream",
     "text": [
      "3\n",
      "4\n",
      "Die(sides=6)\n",
      "True\n",
      "True\n",
      "True\n",
      "False\n",
      "Die(sides=20)\n"
     ]
    }
   ],
   "source": [
    "# Defining all these things is tedious\n",
    "# Use decorator for dataclass to avoid all of this - frozen prevents changing parameters\n",
    "@dataclass (frozen=True)\n",
    "class Die(Distribution):\n",
    "    # Restricts parameter sides: to be an int\n",
    "    sides: int\n",
    "    # Defines the sample attribute\n",
    "    def sample(self):\n",
    "        return random.randint(1, self.sides)\n",
    "    \n",
    "# Generate class\n",
    "six_sided = Die(6)\n",
    "\n",
    "# Sample using class\n",
    "print(six_sided.sample())\n",
    "\n",
    "# Generate function to roll 2 dice\n",
    "def roll_dice():\n",
    "    return six_sided.sample() + six_sided.sample()\n",
    "print(roll_dice())\n",
    "\n",
    "# Changed due to __repr__ in class definition for debugging\n",
    "print(six_sided)\n",
    "\n",
    "# Comparison of different instances of the class\n",
    "print(six_sided==six_sided)\n",
    "# Changed due to __eq__ in class definition\n",
    "print(six_sided==Die(6))\n",
    "print(Die(6)==Die(6)) \n",
    "print(Die(6)==None)\n",
    "\n",
    "# Changed due to frozen - raises error\n",
    "# six_sided.sides = 10\n",
    "\n",
    "# Instead we must generate a new copy - easy with replace from dataclass\n",
    "d20 = dataclasses.replace(six_sided, sides=20)\n",
    "print(d20)\n",
    "# Finally - immutable objects from frozen lets us use immutable objects as dict keys and set elements\n",
    "    # Essentially function as plain data - and not function references"
   ]
  },
  {
   "cell_type": "code",
   "execution_count": 21,
   "metadata": {},
   "outputs": [],
   "source": [
    "# Important to add type annotations - but sometimes unclear what the type is\n",
    "\n",
    "# A type variable named ”A”\n",
    "A = TypeVar(\"A\")\n",
    "            \n",
    "# Distribution is ”generic in A”\n",
    "class Distribution(ABC, Generic[A]):\n",
    "    # Sampling must produce a value of type A\n",
    "    @abstractmethod\n",
    "    def sample(self) -> A:\n",
    "        pass\n",
    "\n",
    "# Can now specify what type of Distribution we generate\n",
    "@dataclass (frozen=True)\n",
    "class Die(Distribution[int]):\n",
    "    # Defines the sample attribute\n",
    "    def sample(self):\n",
    "        return random.randint(1, self.sides)\n",
    "    \n",
    "def expected_value(d: Distribution[float], n: int = 100) -> float:\n",
    "    return statistics.mean(d.sample() for _ in range(n))\n",
    "\n"
   ]
  }
 ],
 "metadata": {
  "kernelspec": {
   "display_name": ".venv",
   "language": "python",
   "name": "python3"
  },
  "language_info": {
   "codemirror_mode": {
    "name": "ipython",
    "version": 3
   },
   "file_extension": ".py",
   "mimetype": "text/x-python",
   "name": "python",
   "nbconvert_exporter": "python",
   "pygments_lexer": "ipython3",
   "version": "3.9.6"
  }
 },
 "nbformat": 4,
 "nbformat_minor": 2
}
