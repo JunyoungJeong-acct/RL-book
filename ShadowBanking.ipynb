{
 "cells": [
  {
   "cell_type": "code",
   "execution_count": 4,
   "metadata": {},
   "outputs": [],
   "source": [
    "# Import\n",
    "import numpy as np\n",
    "import pandas as pd\n",
    "import matplotlib as mp\n",
    "\n",
    "\n",
    "# Parameter definitions\n",
    "rho_HH = 0.9\n",
    "rho_TB = 0.7\n",
    "rho_SB = 0.8\n",
    "sigma = 2\n",
    "tau = 0.25\n",
    "\n",
    "# Household demand functions\n",
    "def HH_demand():\n",
    "    C = rho_HH \n",
    "    K = (mu_H - rf)/(sigma+sigma_q)^2\n",
    "    T = tau - R\n",
    "    D = 1 - K - C - T\n",
    "    return[C, K, T, D]\n",
    "\n"
   ]
  }
 ],
 "metadata": {
  "kernelspec": {
   "display_name": ".venv",
   "language": "python",
   "name": "python3"
  },
  "language_info": {
   "codemirror_mode": {
    "name": "ipython",
    "version": 3
   },
   "file_extension": ".py",
   "mimetype": "text/x-python",
   "name": "python",
   "nbconvert_exporter": "python",
   "pygments_lexer": "ipython3",
   "version": "3.9.6"
  }
 },
 "nbformat": 4,
 "nbformat_minor": 2
}
